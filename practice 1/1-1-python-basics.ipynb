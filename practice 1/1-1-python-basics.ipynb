{
 "cells": [
  {
   "cell_type": "markdown",
   "id": "c6c34b48",
   "metadata": {
    "editable": false,
    "user_expressions": []
   },
   "source": [
    "Before you turn this problem in, make sure everything runs as expected. First, **restart the kernel** (in the menubar, select Kernel$\\rightarrow$Restart Kernel) and then **run all cells** (in the menubar, select Run$\\rightarrow$Run All Cells). Alternatively, you can use the **validate** button in the assignment list panel.\n",
    "\n",
    "Make sure you fill in any place that says `YOUR CODE HERE` or \"YOUR ANSWER HERE\". When you insert your Code you can remove the line `raise NotImplementedError()`. Also put your name, matriculationnumber, and collaborators below:"
   ]
  },
  {
   "cell_type": "code",
   "execution_count": null,
   "id": "e5c9c336",
   "metadata": {},
   "outputs": [],
   "source": [
    "NAME = \"Li xinghan\"\n",
    "MATRICULATIONNUMBER = \"5130032\"\n",
    "COLLABORATORS = \"\""
   ]
  },
  {
   "cell_type": "markdown",
   "id": "eade4ad7",
   "metadata": {
    "user_expressions": []
   },
   "source": [
    "---"
   ]
  },
  {
   "cell_type": "markdown",
   "id": "8ed0a317-0826-4acb-9520-20dfd6fa52e0",
   "metadata": {
    "deletable": false,
    "editable": false,
    "nbgrader": {
     "cell_type": "markdown",
     "checksum": "1ec50c3e80d5d06b9e8cb75716acc4f3",
     "grade": false,
     "grade_id": "11-intro-text",
     "locked": true,
     "schema_version": 3,
     "solution": false,
     "task": false
    },
    "user_expressions": []
   },
   "source": [
    "<img src=\"images/logo_ifn.svg\" alt=\"Drawing\" style=\"width: 256px;\" align=\"right\"/>\n",
    "\n",
    "# Exercise 1.1: Python Basics\n",
    "\n",
    "Welcome to the first unit of the Computer Lab Pattern Recognition where you will learn about the programming language Python. Python is a unviversal, interpreted programming language, which is essential for most machine learning and deep learning applications. The functionality can be extended by importing libraries such as PyTorch and Tensorflow which you might have heard of before. The following exercises provide some short tasks to introduce and consolidate your Python knowledge. We will start with the Python basics, followed by an introduction to NumPy, SciPy, Pandas and Matplotlib.\n",
    "\n",
    "We use Jupyter notebooks to step through the required fundamentals of the programming language and the used libraries. Jupyter provides browser-based, interactive notebooks for programming.\n",
    "Below this text you can see what is called a cell. Each notebook consists of multiple cells, which can be used to show formattted text, images and formulas or to write and programm code. You can use different kernels to interprete your code, but we stick with a Python 3 kernel. All modifications to the notebook are automatically saved every few minutes.\n",
    "The first cell below this text is a code cell starting with `[ ]`. In these cells you can type your python code and execute it by simply hitting ``Shift`` + ``Enter``. You then will be placed in a new cell. Try it by typing and executing the following code:\n",
    "```python\n",
    "27+2\n",
    "```"
   ]
  },
  {
   "cell_type": "code",
   "execution_count": null,
   "id": "188c58a7-afd8-44d1-a914-4032e1e057c8",
   "metadata": {},
   "outputs": [],
   "source": [
    "27 + 2"
   ]
  },
  {
   "cell_type": "markdown",
   "id": "31ce7b56-fff2-4fb7-9cdb-f1cfd9f7207f",
   "metadata": {
    "deletable": false,
    "editable": false,
    "nbgrader": {
     "cell_type": "markdown",
     "checksum": "33e2027bd44f9c23834d2f56988d36d4",
     "grade": false,
     "grade_id": "11-nbgrad-explain",
     "locked": true,
     "schema_version": 3,
     "solution": false,
     "task": false
    },
    "user_expressions": []
   },
   "source": [
    "**Warning:**\n",
    "Pay attention to not open the same notebook document on many tabs: edits on different tabs can overwrite each other! To be safe, make sure you open each notebook document in only one tab. If you accidentally open a notebook twice in two different tabs, just close one of the tabs.\n",
    "\n",
    "In the tasks of this Computer Lab, we will provide exercises using a JupyterHub together with nbgrader. The JupyterHub is installed on a remote server, which provides you with compute resources for executing notebooks. Essentially when you execute a code cell, the code will be run on the remote server. The nbgrader extension for the JupyterHub allows for interaction of lecturers with students. We from the Institute for Communications Technology have prepared a lot of exercises for you, which we make available via nbgrader as shown in the kick-off meeting and the corresponding slides. You can fetch, validate and submit your exercises in the `Nbgrader` --> `Assignment List`. Make sure to validate your assignemnts before submitting and to only submit once, when you are confident that you have solved all tasks to your satisfaction. "
   ]
  },
  {
   "cell_type": "markdown",
   "id": "4732ed9c-e953-4110-9501-e86dcb69f024",
   "metadata": {
    "deletable": false,
    "editable": false,
    "nbgrader": {
     "cell_type": "markdown",
     "checksum": "033acdcfbf0041c7a52c7bf59d6e9725",
     "grade": false,
     "grade_id": "11-a-task",
     "locked": true,
     "schema_version": 3,
     "solution": false,
     "task": false
    },
    "user_expressions": []
   },
   "source": [
    "### Task 1.1-A: Simple Operations (3P)\n",
    "\n",
    "First, we will learn how to work with variables. We can create variables using statements such as `a=13` and `b=4` as shown below. Then, we can for example add them to a thrid variable `c = a + b`. You can print the value of the variable using the `print()` function. Try executing the following cell."
   ]
  },
  {
   "cell_type": "code",
   "execution_count": 1,
   "id": "0df99538-dd63-4afe-b24f-7c21751936fe",
   "metadata": {
    "deletable": false,
    "editable": false,
    "nbgrader": {
     "cell_type": "code",
     "checksum": "eb150d7b6f6f5881279add4be3b6561b",
     "grade": false,
     "grade_id": "11-a-demo",
     "locked": true,
     "schema_version": 3,
     "solution": false,
     "task": false
    }
   },
   "outputs": [
    {
     "name": "stdout",
     "output_type": "stream",
     "text": [
      "17\n"
     ]
    }
   ],
   "source": [
    "a = 13\n",
    "b = 4\n",
    "c = a + b\n",
    "print(c)"
   ]
  },
  {
   "cell_type": "markdown",
   "id": "f526602d-cb30-4734-b7c8-73855bf1af7f",
   "metadata": {
    "deletable": false,
    "editable": false,
    "nbgrader": {
     "cell_type": "markdown",
     "checksum": "c49e6d55967b7e5a0070071c76fcc2c3",
     "grade": false,
     "grade_id": "11-a-task2",
     "locked": true,
     "schema_version": 3,
     "solution": false,
     "task": false
    },
    "user_expressions": []
   },
   "source": [
    "Other operators such as `-`, `*`, `/`, `//`, and `%` are used for subtraction, multiplication, division, integer division, and the modulo operation, respectively. Please compute all these operation (a before the operator, b after the operator) and store them in variables `d`, `e`, `f`, `g`, `h`"
   ]
  },
  {
   "cell_type": "code",
   "execution_count": 28,
   "id": "0166f5ae-ccd0-4221-83b9-b65088926171",
   "metadata": {
    "deletable": false,
    "nbgrader": {
     "cell_type": "code",
     "checksum": "93073ed0a0fccbf1d6cff70d2dd1fca0",
     "grade": false,
     "grade_id": "11-a-answer",
     "locked": false,
     "schema_version": 3,
     "solution": true,
     "task": false
    }
   },
   "outputs": [],
   "source": [
    "# YOUR CODE HERE\n",
    "#raise NotImplementedError()\n",
    "d = a - b\n",
    "e = a * b\n",
    "f = a / b\n",
    "g = a // b\n",
    "h = a % b"
   ]
  },
  {
   "cell_type": "markdown",
   "id": "6da8b4b1-e348-4a87-8c13-4d100ebdaf87",
   "metadata": {
    "deletable": false,
    "editable": false,
    "nbgrader": {
     "cell_type": "markdown",
     "checksum": "61017ac8ce02ef86293f056db861ed88",
     "grade": false,
     "grade_id": "11-a-task3",
     "locked": true,
     "schema_version": 3,
     "solution": false,
     "task": false
    },
    "user_expressions": []
   },
   "source": [
    "We will test your solutions with tests as shown below. The `assert` statement means that an error os thrown if the condition is not fulfilled. We will use these errors to automatically grade your tasks. Also, you can use the tests shown below to validate your solutions. Accordingly, please do not try to delete or modify the test cells in any way as this might impact the evaluation of your tasks. We have usually set them to an unmodifyable state so that in theory you should anyway not be able to modify them. \n",
    "\n",
    "**Warning:**\n",
    "Please note, that you will only see a subset of the tests and that many other hidden tests will be potentially carried out in subsequent tasks. It is therefore, not a viable solution to just copy your friends' solutions. However, you are encouraged to work together and discuss your individual solutions."
   ]
  },
  {
   "cell_type": "code",
   "execution_count": 3,
   "id": "451a65e0-319c-4228-a967-c584753916c5",
   "metadata": {
    "deletable": false,
    "editable": false,
    "nbgrader": {
     "cell_type": "code",
     "checksum": "21561ac81f9e85c219de89e3dbd7961e",
     "grade": true,
     "grade_id": "11-a-test",
     "locked": true,
     "points": 3,
     "schema_version": 3,
     "solution": false,
     "task": false
    }
   },
   "outputs": [],
   "source": [
    "assert d == 9\n",
    "assert e == 52\n",
    "assert f == 3.25\n",
    "assert g == 3\n",
    "assert h == 1"
   ]
  },
  {
   "cell_type": "markdown",
   "id": "62c7be9c-1553-47a3-a7cd-2c4b6cdd73da",
   "metadata": {
    "deletable": false,
    "editable": false,
    "nbgrader": {
     "cell_type": "markdown",
     "checksum": "44f865340955c8a296816b9373663031",
     "grade": false,
     "grade_id": "11-b-task",
     "locked": true,
     "schema_version": 3,
     "solution": false,
     "task": false
    },
    "user_expressions": []
   },
   "source": [
    "### Task 1.1-B: Data Types (3P)\n",
    "\n",
    "In Python you do not define the data type when initializing a variable (as e.g., in C++) but Python rather determines the type automatically. Still, you should be aware of which possible data types there are. You can always check the data type using the `type()` function.\n",
    "\n",
    "Please create variables `i_value`, `f_value`, `s_value`, and `b_value`, which contain arbitrary values of type Integer (int), Floating point (float), String (str), and Boolean (bool).  \n",
    "\n"
   ]
  },
  {
   "cell_type": "code",
   "execution_count": 4,
   "id": "049f2777-38cd-4955-b1fd-6060a2405d7f",
   "metadata": {
    "deletable": false,
    "nbgrader": {
     "cell_type": "code",
     "checksum": "20d7468c6557e232879ace2c6fbcf2fd",
     "grade": false,
     "grade_id": "11-b-answer",
     "locked": false,
     "schema_version": 3,
     "solution": true,
     "task": false
    }
   },
   "outputs": [],
   "source": [
    "# YOUR CODE HERE\n",
    "i_value = 2\n",
    "f_value = 2.1\n",
    "s_value = \"Hallo\"\n",
    "b_value = True"
   ]
  },
  {
   "cell_type": "markdown",
   "id": "3eabfca1-f314-45fb-bc53-6229901cd5da",
   "metadata": {
    "deletable": false,
    "editable": false,
    "nbgrader": {
     "cell_type": "markdown",
     "checksum": "4ce66762ffb834593ee1ade9106b2167",
     "grade": false,
     "grade_id": "11-b-task2",
     "locked": true,
     "schema_version": 3,
     "solution": false,
     "task": false
    },
    "user_expressions": []
   },
   "source": [
    "Please note that in the following test we have only made the two tests for the Integer and Floating point types visible. The test for String and Boolean values is not visible but will be carried out when evaluating the notebook. The following tasks follow the spirit that we will be providing enough tests for you to validate that your output/solution has the correct format/shape, but we will not provide tests which are used to prevent cheating or to check the final quality of the solution"
   ]
  },
  {
   "cell_type": "code",
   "execution_count": null,
   "id": "11a27146-f553-4ec1-89d2-a8bbb62440d3",
   "metadata": {
    "deletable": false,
    "editable": false,
    "nbgrader": {
     "cell_type": "code",
     "checksum": "930551bb29b7056a9083b30907ea8e7c",
     "grade": true,
     "grade_id": "11-b-test",
     "locked": true,
     "points": 3,
     "schema_version": 3,
     "solution": false,
     "task": false
    }
   },
   "outputs": [],
   "source": [
    "assert type(i_value) == int\n",
    "assert type(f_value) == float\n"
   ]
  },
  {
   "cell_type": "markdown",
   "id": "4b2d43b6-b1a0-4669-a3bd-14207db3e6cf",
   "metadata": {
    "deletable": false,
    "editable": false,
    "nbgrader": {
     "cell_type": "markdown",
     "checksum": "971796a0fd7fd23b8b6450aa95076aed",
     "grade": false,
     "grade_id": "11-c-task",
     "locked": true,
     "schema_version": 3,
     "solution": false,
     "task": false
    },
    "user_expressions": []
   },
   "source": [
    "### Task 1.1-C: Data Structures (4P)\n",
    "Often times in programming not only single values are needed but collections of values. Python offers various possibilities to create those structures, e.g., lists, dictionaries, or tuples, which contain different properties. Please check the internet to find out about their exact properties and how to work with them. Afterwards, solve the following tasks:\n",
    "- Reverse the order of elements in `num_list2` and store it in a variable `reverse_list2`. Hint: be careful not to modify the original list `num_list2`.\n",
    "- Merge the `num_list` and `num_list2` into a list `merge_list` and keep the order of elements such that a list starting from 1 and ending at 10 is created.\n",
    "- Append the number 0 to `num_list` and store the resulting list in `new_list`\n",
    "- merge the two dictionaries `first_dict` and `second_dict` into a single dictionary `merge_dict` and remove the key 'bike'\n"
   ]
  },
  {
   "cell_type": "code",
   "execution_count": 6,
   "id": "6e474fed-32c2-45d1-bd62-f72106046b04",
   "metadata": {
    "deletable": false,
    "nbgrader": {
     "cell_type": "code",
     "checksum": "64aac72bbdc2b50b5a7a3aafc6ea7052",
     "grade": false,
     "grade_id": "11-c-answer",
     "locked": false,
     "schema_version": 3,
     "solution": true,
     "task": false
    }
   },
   "outputs": [],
   "source": [
    "num_list = [1, 2, 3, 4, 5]\n",
    "num_list2 = [6, 7, 8, 9, 10]\n",
    "char_list2 = ['a', 'b', 'c']\n",
    "first_dict = {'car': 12, 'boat': 26, 'plane': 8}\n",
    "second_dict = {'bike': 'nice', 'jet': 'fast', 'scooter': 'flexible'}\n",
    "\n",
    "# YOUR CODE HERE\n",
    "reverse_list2 = num_list[::-1]\n",
    "merge_list = num_list + num_list2\n",
    "new_list = num_list.copy()\n",
    "new_list.append(0)\n",
    "merge_dict = first_dict.copy()\n",
    "merge_dict.update(second_dict)\n",
    "del merge_dict['bike']"
   ]
  },
  {
   "cell_type": "code",
   "execution_count": null,
   "id": "358d0bbd-09c4-486c-96ee-b1c566a65704",
   "metadata": {
    "deletable": false,
    "editable": false,
    "nbgrader": {
     "cell_type": "code",
     "checksum": "67ca297b11f3d1943902c361168563dd",
     "grade": true,
     "grade_id": "11-c-test",
     "locked": true,
     "points": 4,
     "schema_version": 3,
     "solution": false,
     "task": false
    }
   },
   "outputs": [],
   "source": [
    "assert type(reverse_list2) == list\n",
    "assert type(merge_list) == list\n",
    "assert type(new_list) == list\n",
    "assert type(merge_dict) == dict\n"
   ]
  },
  {
   "cell_type": "markdown",
   "id": "fbc15ba9-77a1-4a71-b957-8c576a997f92",
   "metadata": {
    "deletable": false,
    "editable": false,
    "nbgrader": {
     "cell_type": "markdown",
     "checksum": "ee5c717b7162abba1d75e0b863a96a1f",
     "grade": false,
     "grade_id": "11-d-task",
     "locked": true,
     "schema_version": 3,
     "solution": false,
     "task": false
    },
    "user_expressions": []
   },
   "source": [
    "### Task 1.1-D: Functions (5P)\n",
    "\n",
    "Code can have thousands and even millions of code lines. Accordingly, it is not feasible to put all processing blocks into a large file, but there has to be an ordering. One of the simplest way to do this are functions. They take arguments and have return values. Write the following functions:\n",
    "- Write a function `return_hello_world` that returns a String `Hello World`.\n",
    "- Write a function `add_values` that receives two values and adds them.\n",
    "- Write a function `sum_list` that sums up all values in a list."
   ]
  },
  {
   "cell_type": "code",
   "execution_count": 10,
   "id": "7d3b80f4-9759-46a7-8707-34703c475178",
   "metadata": {
    "deletable": false,
    "nbgrader": {
     "cell_type": "code",
     "checksum": "d01cf138049e597fd4374ced0b5cd616",
     "grade": false,
     "grade_id": "11-d-answer",
     "locked": false,
     "schema_version": 3,
     "solution": true,
     "task": false
    }
   },
   "outputs": [],
   "source": [
    "# YOUR CODE HERE\n",
    "def return_hello_world():\n",
    "    return \"Hello World\"\n",
    "def add_values(value1,value2):\n",
    "    return value1 + value2\n",
    "def sum_list(list1):\n",
    "    sum_value=sum(list1)\n",
    "    return sum_value"
   ]
  },
  {
   "cell_type": "code",
   "execution_count": null,
   "id": "448c6b7c-9bfc-4db9-9ea2-cd7fe07a20af",
   "metadata": {
    "deletable": false,
    "editable": false,
    "nbgrader": {
     "cell_type": "code",
     "checksum": "621598a99618dbbf1c91468d8c2905ee",
     "grade": true,
     "grade_id": "11-d-test",
     "locked": true,
     "points": 5,
     "schema_version": 3,
     "solution": false,
     "task": false
    }
   },
   "outputs": [],
   "source": [
    "val1 = return_hello_world()\n",
    "val2 = add_values(4,9)\n",
    "val3 = sum_list([4,2,3])\n"
   ]
  },
  {
   "cell_type": "markdown",
   "id": "fe0f152f-0d1d-48ce-bc70-a486d9580fb5",
   "metadata": {
    "deletable": false,
    "editable": false,
    "nbgrader": {
     "cell_type": "markdown",
     "checksum": "1987ad50ff3ce0b038e723be6a7ba5d3",
     "grade": false,
     "grade_id": "11-e-task",
     "locked": true,
     "schema_version": 3,
     "solution": false,
     "task": false
    },
    "user_expressions": []
   },
   "source": [
    "### Task 1.1-E: If, Elif, and Else Conditions (5P)\n",
    "\n",
    "Often we would like to carry out a certain statement only if a condition is met. We can do this using the `if`, `elif`, and `else` conditions. Check the internet for more information about these statements and implement the following functions:\n",
    "- Implement a step function as `step` which takes a number and returns 0 if the number is smaller than 0 or 1 if the number is larger or equal to 0.\n",
    "- Implement ReLU function `relu` which takes a number and returns the input value for values larger or equal to 0 and 0 for values smaller than 0.\n",
    "- Implement a function `two_cond` which takes a String and return True if the string contains an 'a' as well as an 'e' and 'False' otherwise.\n",
    "- Implement a function `multi_step` which takes a number and returns 0 if the number is smaller than -1, 0.5 if the number is larger or equal to -1 as well as smaller than 1, and 1 if the number is greater or equal to 1."
   ]
  },
  {
   "cell_type": "code",
   "execution_count": 15,
   "id": "651d5d6c-75fe-44a0-a410-05ec2d2ee3bb",
   "metadata": {
    "deletable": false,
    "nbgrader": {
     "cell_type": "code",
     "checksum": "2616082518283c85a35cf69919a9c799",
     "grade": false,
     "grade_id": "11-e-answer",
     "locked": false,
     "schema_version": 3,
     "solution": true,
     "task": false
    }
   },
   "outputs": [],
   "source": [
    "# YOUR CODE HERE\n",
    "def step(number):\n",
    "    if number < 0:\n",
    "        return 0\n",
    "    else:\n",
    "        return 1\n",
    "def relu(number):\n",
    "    if number>= 0:\n",
    "        return number\n",
    "    else:\n",
    "        return 0\n",
    "def two_cond(string1):\n",
    "    if 'a' in string1 and 'e' in string1:\n",
    "        return True\n",
    "    else:\n",
    "        return False\n",
    "def multi_step(number):\n",
    "    if number < -1:\n",
    "        return 0\n",
    "    elif number >= -1 and number <1:\n",
    "        return 0.5\n",
    "    else:\n",
    "        return 1"
   ]
  },
  {
   "cell_type": "code",
   "execution_count": null,
   "id": "b464d2d2-ecdc-4d20-98ab-3b1d5cb0effe",
   "metadata": {
    "deletable": false,
    "editable": false,
    "nbgrader": {
     "cell_type": "code",
     "checksum": "4a74eeec6d7e8d698647a8827e23c33a",
     "grade": true,
     "grade_id": "11-e-test",
     "locked": true,
     "points": 5,
     "schema_version": 3,
     "solution": false,
     "task": false
    },
    "user_expressions": []
   },
   "outputs": [],
   "source": [
    "out = step(2)\n",
    "out2 = relu(2)\n",
    "out3 = two_cond('equal')\n",
    "out4 = multi_step(2)\n"
   ]
  },
  {
   "cell_type": "markdown",
   "id": "05aeb4db-77db-4c75-a900-2cb681cf2ec8",
   "metadata": {
    "deletable": false,
    "editable": false,
    "nbgrader": {
     "cell_type": "markdown",
     "checksum": "77d4d772d2c39c76a751836bcc79ea95",
     "grade": false,
     "grade_id": "11-f-task",
     "locked": true,
     "schema_version": 3,
     "solution": false,
     "task": false
    },
    "user_expressions": []
   },
   "source": [
    "### Task 1.1-F: For and While Loops (5P)\n",
    "\n",
    "Often times we also need to loop through data structures or numbers. We can do this with `for` and `while` loops. The `for` loop goes through a fixed length data structure, while the `while` loop goes on infinitely until a condition is met. With this knowledge implement the following functions:\n",
    "- A function `count_two` that counts how often the number 2 occurs in a list\n",
    "- A function `match` that simultaneously loops through two lists of numbers and counts how often the values (at the same position) match. You can assume that the lists have the same length. Hint: use the `zip()` function.\n",
    "- A function that `limit_add` that takes a threshold as input and determines until which number the natural numbers starting from 1 have to be added until a given threshold is reached or surpassed. E.g., if the threshold is 12, the numbers 1,2,3,4, and 5 have to be added, so the function would return 5."
   ]
  },
  {
   "cell_type": "code",
   "execution_count": 29,
   "id": "f50083dc-8447-40c5-833c-3b7c19167443",
   "metadata": {
    "deletable": false,
    "nbgrader": {
     "cell_type": "code",
     "checksum": "cf496b8710ce6bd0952ab6393eefa08b",
     "grade": false,
     "grade_id": "11-f-answer",
     "locked": false,
     "schema_version": 3,
     "solution": true,
     "task": false
    }
   },
   "outputs": [],
   "source": [
    "# YOUR CODE HERE\n",
    "def count_two(list1):\n",
    "    count = 0\n",
    "    for num in list1:\n",
    "        if num == 2:\n",
    "            count+=1\n",
    "    return count\n",
    "def match (list1,list2):\n",
    "    index = 0\n",
    "    for num1,num2 in zip(list1,list2):\n",
    "        if num1== num2:\n",
    "            index += 1\n",
    "    return index\n",
    "def limit_add(threshold):\n",
    "    sum = 0\n",
    "    index = 1\n",
    "    while sum < threshold:\n",
    "        sum += index\n",
    "        index += 1\n",
    "    return index -1"
   ]
  },
  {
   "cell_type": "code",
   "execution_count": null,
   "id": "602cd8cc-3b82-4e26-95f4-4f1e796379da",
   "metadata": {
    "deletable": false,
    "editable": false,
    "nbgrader": {
     "cell_type": "code",
     "checksum": "8726189b1e87116f1ed611d53eebe123",
     "grade": true,
     "grade_id": "11-f-test",
     "locked": true,
     "points": 5,
     "schema_version": 3,
     "solution": false,
     "task": false
    }
   },
   "outputs": [],
   "source": [
    "out1 = count_two([2,4,3,2,5,2,1])\n",
    "out2 = match([2,3,1], [2,1,3])\n",
    "out3 = limit_add(12)\n"
   ]
  },
  {
   "cell_type": "markdown",
   "id": "91470759-6674-4e99-9af1-f8c450c0281b",
   "metadata": {
    "deletable": false,
    "editable": false,
    "nbgrader": {
     "cell_type": "markdown",
     "checksum": "610cca79853b76c623e5bcd06997f528",
     "grade": false,
     "grade_id": "11-g-task",
     "locked": true,
     "schema_version": 3,
     "solution": false,
     "task": false
    },
    "user_expressions": []
   },
   "source": [
    "### Task 1.1-G: Import Statements (5P)\n",
    "\n",
    "While it is nice to write python code yourself, for complex projects it is often necessary to rely on functions other people have written. For this purpose Python offers the possibility to import libraries or functions from libraries. Famous libraries are for example numpy, scipy, pandas, or, pytorch and tensorflow. Import functions that solve the following tasks (or write them yourself if you want to):\n",
    "- A function `time` that returns the current time as a floating point number expressed in seconds since the epoch\n",
    "- A function `inv` that returns the inverse of an arbitrary quadratic matrix \n",
    "- A function `curr_dir` that returns the current working directory of this script as a String in the format /absolute/path/to/current/directory"
   ]
  },
  {
   "cell_type": "code",
   "execution_count": 31,
   "id": "4c305495-cf20-4dcd-9f58-101370405c7c",
   "metadata": {
    "deletable": false,
    "nbgrader": {
     "cell_type": "code",
     "checksum": "b4c198c4b732f0624c6592dac930e1b2",
     "grade": false,
     "grade_id": "11-g-answer",
     "locked": false,
     "schema_version": 3,
     "solution": true,
     "task": false
    }
   },
   "outputs": [],
   "source": [
    "# YOUR CODE HERE\n",
    "import time as t\n",
    "import numpy as np\n",
    "import os\n",
    "\n",
    "def time():\n",
    "    time1=t.time()\n",
    "    return time1\n",
    "\n",
    "def inv(matrix):\n",
    "    inverse = np.linalg.inv(matrix)\n",
    "    return inverse\n",
    "\n",
    "def curr_dir():\n",
    "    curr_directory = os.getcwd()\n",
    "    return curr_directory\n",
    "    \n",
    "    "
   ]
  },
  {
   "cell_type": "code",
   "execution_count": null,
   "id": "4fa8e559-7a26-4908-b9fa-251b5965712b",
   "metadata": {
    "deletable": false,
    "editable": false,
    "nbgrader": {
     "cell_type": "code",
     "checksum": "91047f005650f3b4b583896f082ef994",
     "grade": true,
     "grade_id": "11-g-test",
     "locked": true,
     "points": 5,
     "schema_version": 3,
     "solution": false,
     "task": false
    }
   },
   "outputs": [],
   "source": [
    "out1 = time()\n",
    "out2 = inv([[1,5],[2,1]])\n",
    "out3 = curr_dir()\n"
   ]
  },
  {
   "cell_type": "markdown",
   "id": "c88a2335-0c6d-4b2c-8c62-f1e74d85d16e",
   "metadata": {
    "deletable": false,
    "editable": false,
    "nbgrader": {
     "cell_type": "markdown",
     "checksum": "89f2e076311b10c0687fcca319696148",
     "grade": false,
     "grade_id": "11-h-task",
     "locked": true,
     "schema_version": 3,
     "solution": false,
     "task": false
    },
    "user_expressions": []
   },
   "source": [
    "### Task 1.1-H: Klassendefinitionen (5P)\n",
    "\n",
    "Another important aspect which you will often find useful is the definition of classes. Instead of a function you define a structure which needs to be initialized and provides certain functionalities. The idea is that the class contains properties which can be accessed at various points inside the code/programm. This is something which a simple function cannot provide. In practice a class must contain an `__init__(self, *args)` method and can contain various other methods. Start to implement the following: \n",
    "- Create a class Animal that requires the attributes color and age (in years) during initialization.\n",
    "- Write a class function `return_color(self)`, which returns the color value\n",
    "- Write a class function `return_age_in_hours(self)`, which returns the age in hours (assume a year has 365 days).\n",
    "- Write another class function `set_age(self, years)`, which overwrites the age value set during initialization.\n",
    "- Create a class instance `mike` from the class Animal, which is \"gray\" and 10 years old."
   ]
  },
  {
   "cell_type": "code",
   "execution_count": 25,
   "id": "1116b204-d8c0-4f98-8779-e41b1b11909b",
   "metadata": {
    "deletable": false,
    "nbgrader": {
     "cell_type": "code",
     "checksum": "632f2bd2a05a9a2445929cc6c1cb279b",
     "grade": false,
     "grade_id": "11-h-answer",
     "locked": false,
     "schema_version": 3,
     "solution": true,
     "task": false
    }
   },
   "outputs": [],
   "source": [
    "class Animal():\n",
    "    # YOUR CODE HERE\n",
    "    def __init__(self,color,age):\n",
    "        self.color = color\n",
    "        self.age = age\n",
    "    def return_color(self):\n",
    "        return self.color\n",
    "    def return_age_in_hours(self):\n",
    "        return self.age*365*24\n",
    "    def set_age(self,years):\n",
    "        self.age = years\n",
    "    \n",
    "# YOUR CODE HERE\n",
    "mike = Animal(\"grey\",10)"
   ]
  },
  {
   "cell_type": "code",
   "execution_count": null,
   "id": "b5cdb032-f770-4f4b-8c3d-c4cf42b700d1",
   "metadata": {
    "deletable": false,
    "editable": false,
    "nbgrader": {
     "cell_type": "code",
     "checksum": "b272760bcc746d99198eed583fc8b4f4",
     "grade": true,
     "grade_id": "11-h-test",
     "locked": true,
     "points": 5,
     "schema_version": 3,
     "solution": false,
     "task": false
    }
   },
   "outputs": [],
   "source": [
    "assert hasattr(mike, \"color\")\n",
    "assert hasattr(mike, \"age\")\n"
   ]
  },
  {
   "cell_type": "markdown",
   "id": "6a25a3ea-e0e3-47c8-9315-a5192595c72a",
   "metadata": {
    "deletable": false,
    "editable": false,
    "nbgrader": {
     "cell_type": "markdown",
     "checksum": "af7626ea234b6a9b6f1442c3a3a38008",
     "grade": false,
     "grade_id": "11-i-task",
     "locked": true,
     "schema_version": 3,
     "solution": false,
     "task": false
    },
    "user_expressions": []
   },
   "source": [
    "### Task 1.1-I: Objektorientiertes Programmieren (5P)\n",
    "\n",
    "An interesting and often very useful property of classes is that they can inherit properties from other classes. Thereby, a hierarchical structure can be created where a parent class, e.g., Animal provides basic functionalities, while more specific properties are implemented in the child class. Let's try it out:\n",
    "- Implement a class `Dog` that inherits from `Animal`. Introduce a third argument `height` (in cm) during intialization that is stored as a class variable\n",
    "- Overwrite the function `return_age_in_hours` to have two return arguments: First the age in years and second the age in hours.\n",
    "- Create an instance `cooper` that is yellow, 4 years old and 50 cm high."
   ]
  },
  {
   "cell_type": "code",
   "execution_count": 27,
   "id": "074c0f4e-a9d0-4d35-a2cc-6066ba10c39e",
   "metadata": {
    "deletable": false,
    "nbgrader": {
     "cell_type": "code",
     "checksum": "19608843dbf048846a42734c565ad892",
     "grade": false,
     "grade_id": "11-i-answer",
     "locked": false,
     "schema_version": 3,
     "solution": true,
     "task": false
    }
   },
   "outputs": [],
   "source": [
    "class Dog(Animal):\n",
    "    # YOUR CODE HERE\n",
    "    def __init__(self,color,age,height):\n",
    "        super().__init__(color,age)\n",
    "        self.height = height\n",
    "    \n",
    "    def return_age_in_hours(self):\n",
    "        age_year = self.age\n",
    "        age_hour = self.age*365*24\n",
    "        return age_year, age_hour\n",
    "    \n",
    "\n",
    "# YOUR CODE HERE\n",
    "cooper = Dog(\"yellow\",4,50)"
   ]
  },
  {
   "cell_type": "code",
   "execution_count": null,
   "id": "e1d29f4e-c6d8-468b-9af8-40a761b2a594",
   "metadata": {
    "deletable": false,
    "editable": false,
    "nbgrader": {
     "cell_type": "code",
     "checksum": "5ae3243e8897a3b0f0782539dcd8e828",
     "grade": true,
     "grade_id": "11-i-test",
     "locked": true,
     "points": 5,
     "schema_version": 3,
     "solution": false,
     "task": false
    }
   },
   "outputs": [],
   "source": [
    "assert hasattr(cooper, \"height\")\n",
    "age_y, age_h = cooper.return_age_in_hours()\n"
   ]
  },
  {
   "cell_type": "code",
   "execution_count": null,
   "id": "e369a241-24c6-44ca-8755-07d900535610",
   "metadata": {},
   "outputs": [],
   "source": []
  }
 ],
 "metadata": {
  "kernelspec": {
   "display_name": "Python 3 (ipykernel)",
   "language": "python",
   "name": "python3"
  },
  "language_info": {
   "codemirror_mode": {
    "name": "ipython",
    "version": 3
   },
   "file_extension": ".py",
   "mimetype": "text/x-python",
   "name": "python",
   "nbconvert_exporter": "python",
   "pygments_lexer": "ipython3",
   "version": "3.10.8"
  },
  "scenes_data": {
   "active_scene": "Legacy Init",
   "init_scene": null,
   "scenes": [
    "Default Scene",
    "Legacy Init"
   ]
  }
 },
 "nbformat": 4,
 "nbformat_minor": 5
}
