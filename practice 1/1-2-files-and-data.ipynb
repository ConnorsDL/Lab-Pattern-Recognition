{
 "cells": [
  {
   "cell_type": "markdown",
   "id": "f6fd7c51",
   "metadata": {
    "editable": false,
    "user_expressions": []
   },
   "source": [
    "Before you turn this problem in, make sure everything runs as expected. First, **restart the kernel** (in the menubar, select Kernel$\\rightarrow$Restart Kernel) and then **run all cells** (in the menubar, select Run$\\rightarrow$Run All Cells). Alternatively, you can use the **validate** button in the assignment list panel.\n",
    "\n",
    "Make sure you fill in any place that says `YOUR CODE HERE` or \"YOUR ANSWER HERE\". When you insert your Code you can remove the line `raise NotImplementedError()`. Also put your name, matriculationnumber, and collaborators below:"
   ]
  },
  {
   "cell_type": "code",
   "execution_count": null,
   "id": "0060c756",
   "metadata": {},
   "outputs": [],
   "source": [
    "NAME = \"Li xinghan\"\n",
    "MATRICULATIONNUMBER = \"5130032\"\n",
    "COLLABORATORS = \"\""
   ]
  },
  {
   "cell_type": "markdown",
   "id": "fa109594",
   "metadata": {
    "user_expressions": []
   },
   "source": [
    "---"
   ]
  },
  {
   "cell_type": "markdown",
   "id": "1bf2b5a4-5c8f-4834-9de6-9159b5d7bace",
   "metadata": {
    "deletable": false,
    "editable": false,
    "nbgrader": {
     "cell_type": "markdown",
     "checksum": "943f048b26dc2be670602b8c4f5a088b",
     "grade": false,
     "grade_id": "12-intro-text",
     "locked": true,
     "schema_version": 3,
     "solution": false,
     "task": false
    },
    "user_expressions": []
   },
   "source": [
    "<img src=\"images/logo_ifn.svg\" alt=\"Drawing\" style=\"width: 256px;\" align=\"right\"/>\n",
    "\n",
    "# Exercise 1.2: Data Handling\n",
    "\n",
    "Often times Python is used as a more advanced tool that, e.g., Excel, to analyze large amounts of data. To this end, it is essential to know how to load different types of data, how to store different types of data and to know the implications of different file types. In the following, we will introduce various methods and tools to handle data and to interact with the system's storage. First, let's load some libraries, which we will subsequently need."
   ]
  },
  {
   "cell_type": "code",
   "execution_count": 1,
   "id": "3b9f0039-f0db-484f-9036-5f8fc9a898fe",
   "metadata": {
    "deletable": false,
    "editable": false,
    "init_cell": true,
    "nbgrader": {
     "cell_type": "code",
     "checksum": "2602f1817bb8c63cbf02f76806c1ace3",
     "grade": false,
     "grade_id": "12-imports",
     "locked": true,
     "schema_version": 3,
     "solution": false,
     "task": false
    },
    "scene__Default Scene": true,
    "scene__Legacy Init": true,
    "tags": [
     "ActiveScene"
    ]
   },
   "outputs": [],
   "source": [
    "import os\n",
    "import PIL\n",
    "import cv2\n",
    "import json\n",
    "import pickle\n",
    "import pandas as pd\n",
    "import numpy as np\n",
    "import random\n",
    "import params\n",
    "from ipylab import JupyterFrontEnd\n",
    "PARAM_1, PARAM_2, PARAM_3 = params.gen_params(os.getcwd())\n",
    "PARAM_4 = int(params.gen_params(os.getcwd(), mode='float', num=1)[0] *100000)\n",
    "app = JupyterFrontEnd()\n",
    "app.commands.execute('notebook:render-all-markdown')"
   ]
  },
  {
   "cell_type": "markdown",
   "id": "3f30f9fe-c8e2-4390-b88d-9d53956046dc",
   "metadata": {
    "deletable": false,
    "editable": false,
    "nbgrader": {
     "cell_type": "markdown",
     "checksum": "75cecf27f21a3d96200e2b756d3eeea2",
     "grade": false,
     "grade_id": "12-a-task",
     "locked": true,
     "schema_version": 3,
     "solution": false,
     "task": false
    },
    "user_expressions": []
   },
   "source": [
    "### Task 1.2-A: Loading Simple Text Files (5P)\n",
    "\n",
    "First, we want to read simple text files. You will find a simple file in \"./data/simple_text.txt\". Please load the file line-wise and solve the following tasks:\n",
    "- The first row contains characters (in this case only letters). Please delete all consonants and return the resulting string as `string`.\n",
    "- The second row contains only numbers. Please delete all odd numbers and return the remaining numbers as a string in the variable `numbers`.\n",
    "- The third row contains several names. Convert them into a list and sort them alphabetically. Return the list as `names`."
   ]
  },
  {
   "cell_type": "code",
   "execution_count": 22,
   "id": "91cc58da-547a-4f75-aaad-7a94b47a5aa1",
   "metadata": {
    "deletable": false,
    "nbgrader": {
     "cell_type": "code",
     "checksum": "f71b54680ce982ed5201846320b88159",
     "grade": false,
     "grade_id": "12-a-answer",
     "locked": false,
     "schema_version": 3,
     "solution": true,
     "task": false
    }
   },
   "outputs": [],
   "source": [
    "def read_txt():\n",
    "    # YOUR CODE HERE\n",
    "    with open ('./data/simple_text.txt','r') as file:\n",
    "        lines = file.readlines()\n",
    "    string = ''.join(char for char in lines[0]if char.lower() in 'aeiou')\n",
    "    numbers = ' '.join(num for num in lines[1].split()if int(num)%2 ==0)\n",
    "    names = sorted(lines[2].split())\n",
    "    return string, numbers, names\n",
    "\n",
    "output = read_txt()"
   ]
  },
  {
   "cell_type": "code",
   "execution_count": null,
   "id": "1b964d3a-3b0e-4b8e-bb52-2ab7489a59f9",
   "metadata": {
    "deletable": false,
    "editable": false,
    "nbgrader": {
     "cell_type": "code",
     "checksum": "9f98f7407fd5e8d56a7fe343e73f1c33",
     "grade": true,
     "grade_id": "12-a-test",
     "locked": true,
     "points": 5,
     "schema_version": 3,
     "solution": false,
     "task": false
    }
   },
   "outputs": [],
   "source": [
    "assert type(output[0]) == str\n",
    "assert type(output[1]) == str\n",
    "assert type(output[2]) == list\n"
   ]
  },
  {
   "cell_type": "markdown",
   "id": "91d59c19-3703-409b-9472-e42a33ea6ce6",
   "metadata": {
    "deletable": false,
    "editable": false,
    "nbgrader": {
     "cell_type": "markdown",
     "checksum": "9772a5ee66f876ec745f12aa0c7e4287",
     "grade": false,
     "grade_id": "12-b-task",
     "locked": true,
     "schema_version": 3,
     "solution": false,
     "task": false
    },
    "user_expressions": [
     {
      "expression": "PARAM_2",
      "result": {
       "data": {
        "text/plain": "67"
       },
       "metadata": {},
       "status": "ok"
      }
     },
     {
      "expression": "PARAM_3",
      "result": {
       "data": {
        "text/plain": "46"
       },
       "metadata": {},
       "status": "ok"
      }
     }
    ]
   },
   "source": [
    "### Task 1.2-B: Writing Simple Text Files (5P)\n",
    "\n",
    "After we learned how to read files, we will now learn how to write files to disk. For this purpose please create the directory specified by the variable SAVE_DIR (see comment below). Save all files for this unit in this folder. You can verify if the directory has been created succesfully either by using the os library functionalities to check if directories/files exist or by going into a terminal (blue plus sign in the top right and then opening a terminal) and using the linux commands cd and ls to move through directories and inspect their content. With this in mind solve the following task:\n",
    "- Create a file './results/text_file.txt'.\n",
    "- In the first row of this file save a space-separated number series from 1 to (including) {{PARAM_2}}.\n",
    "- In the second row save the first {{PARAM_3}} prime numbers (also space-separated). Note that 1 is not a prime number."
   ]
  },
  {
   "cell_type": "code",
   "execution_count": 26,
   "id": "26728589-2e2a-4cfd-9370-0944e07cb61b",
   "metadata": {
    "deletable": false,
    "nbgrader": {
     "cell_type": "code",
     "checksum": "aa5b718a9559119747600bae48d2cffe",
     "grade": false,
     "grade_id": "12-b-answer",
     "locked": false,
     "schema_version": 3,
     "solution": true,
     "task": false
    }
   },
   "outputs": [],
   "source": [
    "# IMPORTANT: Define the variable SAVE_DIR as:\n",
    "SAVE_DIR = './results'\n",
    "def is_prime(num):\n",
    "    if num<=1:\n",
    "        return False\n",
    "    for i in range(2,num):\n",
    "        if num % i== 0:\n",
    "            return False\n",
    "    return True    \n",
    "def write_txt():\n",
    "    # YOUR CODE HERE\n",
    "    os.makedirs(SAVE_DIR,exist_ok=True)\n",
    "    with open(os.path.join(SAVE_DIR,'text_file.txt'),'w')as file:\n",
    "        numbers_sequence = ' '.join(map(str,range(1,68)))\n",
    "        file.write(numbers_sequence+'\\n')\n",
    "        prime_list = []\n",
    "        count = 0\n",
    "        num = 2\n",
    "        while count<46:\n",
    "            if is_prime(num):\n",
    "                prime_list.append(str(num))\n",
    "                count += 1\n",
    "            num += 1\n",
    "        prime_number = ' '.join(prime_list)\n",
    "        file.write(prime_number)\n",
    "                \n",
    "write_txt()"
   ]
  },
  {
   "cell_type": "code",
   "execution_count": null,
   "id": "8b8e12a2-0c81-4949-92e2-0b1f5434c62f",
   "metadata": {
    "deletable": false,
    "editable": false,
    "nbgrader": {
     "cell_type": "code",
     "checksum": "beb103d2939a369924755c02758d3c9c",
     "grade": true,
     "grade_id": "12-b-test",
     "locked": true,
     "points": 5,
     "schema_version": 3,
     "solution": false,
     "task": false
    }
   },
   "outputs": [],
   "source": [
    "assert os.path.isdir(SAVE_DIR)\n",
    "assert os.path.isfile(os.path.join(SAVE_DIR, \"text_file.txt\"))\n"
   ]
  },
  {
   "cell_type": "markdown",
   "id": "8bcd8453-8b0e-41c2-9012-078b0c83a1db",
   "metadata": {
    "deletable": false,
    "editable": false,
    "nbgrader": {
     "cell_type": "markdown",
     "checksum": "84e0288f32a95d78e5f5627443673321",
     "grade": false,
     "grade_id": "12-c-task",
     "locked": true,
     "schema_version": 3,
     "solution": false,
     "task": false
    },
    "user_expressions": []
   },
   "source": [
    "### Task 1.2-C: Pandas Dataframes (5P)\n",
    "\n",
    "A very useful tool to process and convert different data format is the library pandas. In the following, we will exemplarily explore the pandas functionalities using csv files. Remeber to store all files in the `SAVE_DIR` directory.\n",
    "- Below you can see a dictionary. Convert the dictionary to a pandas dataframe and save the output to a file \"complete_dataframe.csv\". Use the argument `index=False` to not store the column index.\n",
    "- Save only the first two columns (name and birth_date) to a file \"first_col.csv\" without saving the indices.\n",
    "- Load the data from \"data/health_data.csv\" into a pandas dataframe. Drop all rows which don't contain a value for 'resting_pulse' and replace all missing values for 'age' with the average value from all other patients. Return the resulting dataframe as `health_data`\n"
   ]
  },
  {
   "cell_type": "code",
   "execution_count": 31,
   "id": "09207a85-e5bc-43b6-aeff-74cf148b1d05",
   "metadata": {
    "deletable": false,
    "nbgrader": {
     "cell_type": "code",
     "checksum": "d6972ac239b2317f42812cacd9b16c28",
     "grade": false,
     "grade_id": "12-c-answer",
     "locked": false,
     "schema_version": 3,
     "solution": true,
     "task": false
    }
   },
   "outputs": [],
   "source": [
    "SAVE_DIR = './results' \n",
    "def process_dataframe(studs):\n",
    "    health_data = pd.DataFrame(studs)\n",
    "    health_data.to_csv(os.path.join(SAVE_DIR,\"complete_dataframe.csv\"),index=False)\n",
    "    health_data[[\"name\",\"birth_date\"]].to_csv(os.path.join(SAVE_DIR,\"first_col.csv\"),index = False)\n",
    "    \n",
    "    return health_data\n",
    "\n",
    "    \n",
    "studs_dict = {\"name\": [\"Max\", \"Albert\", \"Marie\", \"Niels\"],\n",
    "         \"birth_date\": [\"01-01-2001\", \"07-12-1998\", \"14-05-1999\", \"12-12-2000\"],\n",
    "         \"id_number\": [1234567, 2345678, 7654321, 9876543],\n",
    "         \"grade\": [1.7, 1.0, 1.0, 4.0]}\n",
    "health_data = process_dataframe(studs_dict)\n",
    "health_data = pd.read_csv(\"data/health_data.csv\")\n",
    "health_data = health_data.dropna(subset = ['resting_pulse'])\n",
    "mean_age = health_data['age'].mean()\n",
    "health_data['age'].fillna(mean_age,inplace = True)\n"
   ]
  },
  {
   "cell_type": "code",
   "execution_count": null,
   "id": "980699e2-0bcf-4475-9e72-e21a48d4b98a",
   "metadata": {
    "deletable": false,
    "editable": false,
    "nbgrader": {
     "cell_type": "code",
     "checksum": "ed37b272474bc702d6172ae6905e5a57",
     "grade": true,
     "grade_id": "12-c-test",
     "locked": true,
     "points": 5,
     "schema_version": 3,
     "solution": false,
     "task": false
    }
   },
   "outputs": [],
   "source": [
    "assert os.path.isdir(SAVE_DIR)\n",
    "assert os.path.isfile(os.path.join(SAVE_DIR, \"complete_dataframe.csv\"))\n",
    "assert os.path.isfile(os.path.join(SAVE_DIR, \"first_col.csv\"))\n",
    "assert type(health_data) == pd.core.frame.DataFrame\n"
   ]
  },
  {
   "cell_type": "markdown",
   "id": "feafb742-fec4-4eca-a54a-484ea369628b",
   "metadata": {
    "deletable": false,
    "editable": false,
    "nbgrader": {
     "cell_type": "markdown",
     "checksum": "2eb0077ba3cd589e84fb053dd269fdc5",
     "grade": false,
     "grade_id": "12-d-task",
     "locked": true,
     "schema_version": 3,
     "solution": false,
     "task": false
    },
    "user_expressions": []
   },
   "source": [
    "### Task 1.2-D: Handling Tables (3P)\n",
    "\n",
    "In the following we will explore a few other useful file handling operations that can be helpful in your future data science life. First, we will start with handling tables generated from somebody still using Excel instead of Python. Complete the function below and return the table corresponding to the filename using pandas."
   ]
  },
  {
   "cell_type": "code",
   "execution_count": 34,
   "id": "e36bc3b8-9705-4309-8e55-01d897c72501",
   "metadata": {
    "deletable": false,
    "nbgrader": {
     "cell_type": "code",
     "checksum": "17170063891c9b690080342d0837a8d3",
     "grade": false,
     "grade_id": "12-d-answer",
     "locked": false,
     "schema_version": 3,
     "solution": true,
     "task": false
    }
   },
   "outputs": [],
   "source": [
    "def load_excel(filename):\n",
    "    # YOUR CODE HERE\n",
    "    table = pd.read_excel(filename)\n",
    "    return table\n",
    "\n",
    "table = load_excel('./data/health_data.xlsx')"
   ]
  },
  {
   "cell_type": "code",
   "execution_count": null,
   "id": "95b7fe98-87eb-4335-b30b-282257ea8254",
   "metadata": {
    "deletable": false,
    "editable": false,
    "nbgrader": {
     "cell_type": "code",
     "checksum": "10c677f2c38681483e3fe31243cca503",
     "grade": true,
     "grade_id": "12-d-test",
     "locked": true,
     "points": 3,
     "schema_version": 3,
     "solution": false,
     "task": false
    }
   },
   "outputs": [],
   "source": [
    "assert type(table) == pd.core.frame.DataFrame\n"
   ]
  },
  {
   "cell_type": "markdown",
   "id": "8ea0bc2d-03b9-40e7-a2d3-5a1c2fda9494",
   "metadata": {
    "deletable": false,
    "editable": false,
    "nbgrader": {
     "cell_type": "markdown",
     "checksum": "0d97b692992a8e1076913f3387245c65",
     "grade": false,
     "grade_id": "12-e-task",
     "locked": true,
     "schema_version": 3,
     "solution": false,
     "task": false
    },
    "user_expressions": []
   },
   "source": [
    "### Task 1.2-E: Handling Images (3P)\n",
    "\n",
    "Images can be found in many different formats. Load the image './data/street_image.png' using the opencv library (cv2). Afterwards, save the image in jpeg format as \"SAVE_DIR/test_image.jpeg\"."
   ]
  },
  {
   "cell_type": "code",
   "execution_count": 32,
   "id": "1287dcc1-224c-4cb3-9b46-a4c3473f50b2",
   "metadata": {
    "deletable": false,
    "nbgrader": {
     "cell_type": "code",
     "checksum": "ccb1a54b536908c79d5fa44f0c5d56d3",
     "grade": false,
     "grade_id": "12-e-answer",
     "locked": false,
     "schema_version": 3,
     "solution": true,
     "task": false
    }
   },
   "outputs": [
    {
     "data": {
      "text/plain": [
       "True"
      ]
     },
     "execution_count": 32,
     "metadata": {},
     "output_type": "execute_result"
    }
   ],
   "source": [
    "# YOUR CODE HERE\n",
    "image = cv2.imread('./data/street_image.png')\n",
    "cv2.imwrite(os.path.join(SAVE_DIR,'test_image.jpeg'),image)"
   ]
  },
  {
   "cell_type": "code",
   "execution_count": null,
   "id": "9494b863-7eea-4009-9452-acb2628d2fb4",
   "metadata": {
    "deletable": false,
    "editable": false,
    "nbgrader": {
     "cell_type": "code",
     "checksum": "059a79ed9ec9f03fde8397abdc910a02",
     "grade": true,
     "grade_id": "12-e-test",
     "locked": true,
     "points": 3,
     "schema_version": 3,
     "solution": false,
     "task": false
    }
   },
   "outputs": [],
   "source": [
    "assert os.path.isfile(os.path.join(SAVE_DIR, \"test_image.jpeg\"))\n"
   ]
  },
  {
   "cell_type": "markdown",
   "id": "41a846b3-4168-46bb-9db1-0ffcc9a4c3b3",
   "metadata": {
    "deletable": false,
    "editable": false,
    "nbgrader": {
     "cell_type": "markdown",
     "checksum": "989d787ad2cfc7b362bb2047ffddd0af",
     "grade": false,
     "grade_id": "12-f-task",
     "locked": true,
     "schema_version": 3,
     "solution": false,
     "task": false
    },
    "user_expressions": []
   },
   "source": [
    "### Task 1.2-F: Handling Dictionaries (3P)\n",
    "\n",
    "For dictionaries we can use the json format for saving. It naturally preserves the dictionary structure. Create a dictionary that for all months has the three initials (in English, all lower case) as key and the number of the month as value. Save the dictionary in json format under \"SAVE_DIR/months.json\"."
   ]
  },
  {
   "cell_type": "code",
   "execution_count": 35,
   "id": "63bae867-82da-4704-ad0a-d4fc7fa6ee28",
   "metadata": {
    "deletable": false,
    "nbgrader": {
     "cell_type": "code",
     "checksum": "598075c1f5447a1d6abf63a228b1932d",
     "grade": false,
     "grade_id": "12-f-answer",
     "locked": false,
     "schema_version": 3,
     "solution": true,
     "task": false
    }
   },
   "outputs": [],
   "source": [
    "# YOUR CODE HERE\n",
    "month_dict = {\n",
    "    \"january\":1,\"february\":2,\"march\":3,\"april\":4,\"may\":5,\"june\":6,\n",
    "    \"july\":7,\"august\":8,\"september\":9,\"october\":10,\"november\":11,\"december\":12\n",
    "}\n",
    "with open(os.path.join(SAVE_DIR,'months.json'),'w')as json_file:\n",
    "    json.dump(month_dict,json_file)\n",
    "    "
   ]
  },
  {
   "cell_type": "code",
   "execution_count": null,
   "id": "153fcd87-07c9-4dac-a0d7-8c4aef1e8578",
   "metadata": {
    "deletable": false,
    "editable": false,
    "nbgrader": {
     "cell_type": "code",
     "checksum": "be9ba584c06e96e95efa8f52fc567d4a",
     "grade": true,
     "grade_id": "12-f-test",
     "locked": true,
     "points": 3,
     "schema_version": 3,
     "solution": false,
     "task": false
    }
   },
   "outputs": [],
   "source": [
    "assert os.path.isfile(os.path.join(SAVE_DIR, \"months.json\"))\n"
   ]
  },
  {
   "cell_type": "markdown",
   "id": "34bddf92-b1ac-42e2-85b8-b1b77acee24e",
   "metadata": {
    "deletable": false,
    "editable": false,
    "nbgrader": {
     "cell_type": "markdown",
     "checksum": "439139cd8f462c65a3f21f8cdf04714c",
     "grade": false,
     "grade_id": "12-g-task",
     "locked": true,
     "schema_version": 3,
     "solution": false,
     "task": false
    },
    "user_expressions": [
     {
      "expression": "PARAM_4",
      "result": {
       "data": {
        "text/plain": "13832"
       },
       "metadata": {},
       "status": "ok"
      }
     }
    ]
   },
   "source": [
    "### Task 1.2-G: Handling Numpy Files (3P)\n",
    "\n",
    "While arrays can often be saved in image format to save disk space, it comes at the cost of loosing precision (e.g., most image formats convert the numbers to unsigned integers). Therefore, when working with numpy you can use the inbuilt saving and loading functions from numpy to avoid any loss in precision. Set the random seed from numpy to {{PARAM_4}} before creating `in_array` and afterwards save `in_array` under \"SAVE_DIR/random.npy\""
   ]
  },
  {
   "cell_type": "code",
   "execution_count": 38,
   "id": "1e9c9b01-dbfb-4506-8149-0f39200837a3",
   "metadata": {
    "deletable": false,
    "nbgrader": {
     "cell_type": "code",
     "checksum": "5c0540cd49284fb5464736a831261ff4",
     "grade": false,
     "grade_id": "12-g-answer",
     "locked": false,
     "schema_version": 3,
     "solution": true,
     "task": false
    }
   },
   "outputs": [],
   "source": [
    "# set random seed here\n",
    "# YOUR CODE HERE\n",
    "np.random.seed(13832)\n",
    "\n",
    "in_array = np.random.uniform(size=(34,56))\n",
    "\n",
    "\n",
    "# YOUR CODE HERE\n",
    "np.save(os.path.join(SAVE_DIR,'random.npy'),in_array)"
   ]
  },
  {
   "cell_type": "code",
   "execution_count": null,
   "id": "1225ae10-0950-4f40-bccd-bfaa5dd0fc39",
   "metadata": {
    "deletable": false,
    "editable": false,
    "nbgrader": {
     "cell_type": "code",
     "checksum": "6949b045d3eae2a24d4cf8f8f1341388",
     "grade": true,
     "grade_id": "12-g-test",
     "locked": true,
     "points": 3,
     "schema_version": 3,
     "solution": false,
     "task": false
    }
   },
   "outputs": [],
   "source": [
    "assert os.path.isfile(os.path.join(SAVE_DIR, \"random.npy\"))\n"
   ]
  },
  {
   "cell_type": "markdown",
   "id": "0ec2c2e3-46ff-4666-a076-4b3699f0c69c",
   "metadata": {
    "deletable": false,
    "editable": false,
    "nbgrader": {
     "cell_type": "markdown",
     "checksum": "406530544c5e8bfeca888da54bca1808",
     "grade": false,
     "grade_id": "12-h-task",
     "locked": true,
     "schema_version": 3,
     "solution": false,
     "task": false
    },
    "user_expressions": []
   },
   "source": [
    "### Task 1.2-H: Handling General Python Objects (3P)\n",
    "\n",
    "General Python objects can also be saved without any loss in precision using pickle. The library converts python objects into a binary format and back. Thereby, using the binary format a lot of space is saved while still preserving all information. Use the months dictionary and extend it by a key 'days', which points to a list containing the numbers 28, 30, and 31 (in that order). Save the resulting dictionary under \"SAVE_DIR/ext_months.pickle\"."
   ]
  },
  {
   "cell_type": "code",
   "execution_count": 39,
   "id": "94f73f56-d616-481d-96a1-92460c631089",
   "metadata": {
    "deletable": false,
    "nbgrader": {
     "cell_type": "code",
     "checksum": "9222402caeabfbb552cff8cdd46c5fa6",
     "grade": false,
     "grade_id": "12-h-answer",
     "locked": false,
     "schema_version": 3,
     "solution": true,
     "task": false
    }
   },
   "outputs": [],
   "source": [
    "# YOUR CODE HERE\n",
    "month_dict = {\n",
    "    \"january\":1,\"february\":2,\"march\":3,\"april\":4,\"may\":5,\"june\":6,\n",
    "    \"july\":7,\"august\":8,\"september\":9,\"october\":10,\"november\":11,\"december\":12\n",
    "}\n",
    "month_dict['days']=[28,30,31]\n",
    "with open(os.path.join(SAVE_DIR,'ext_months.pickle'),'wb')as pickle_file:\n",
    "    pickle.dump(month_dict,pickle_file)"
   ]
  },
  {
   "cell_type": "code",
   "execution_count": null,
   "id": "40bce2c4-e0c5-4717-9f11-c558843566f1",
   "metadata": {
    "deletable": false,
    "editable": false,
    "nbgrader": {
     "cell_type": "code",
     "checksum": "7326fcb5354d2f3a5ea44400a8c4ffa4",
     "grade": true,
     "grade_id": "12-h-test",
     "locked": true,
     "points": 3,
     "schema_version": 3,
     "solution": false,
     "task": false
    }
   },
   "outputs": [],
   "source": [
    "assert os.path.isfile(os.path.join(SAVE_DIR, \"ext_months.pickle\"))\n"
   ]
  },
  {
   "cell_type": "code",
   "execution_count": null,
   "id": "17527e0c-8e30-4c75-a8f2-b8f0da7784ee",
   "metadata": {},
   "outputs": [],
   "source": []
  }
 ],
 "metadata": {
  "kernelspec": {
   "display_name": "Python 3 (ipykernel)",
   "language": "python",
   "name": "python3"
  },
  "language_info": {
   "codemirror_mode": {
    "name": "ipython",
    "version": 3
   },
   "file_extension": ".py",
   "mimetype": "text/x-python",
   "name": "python",
   "nbconvert_exporter": "python",
   "pygments_lexer": "ipython3",
   "version": "3.10.8"
  },
  "scenes_data": {
   "active_scene": "Default Scene",
   "init_scene": "Default Scene",
   "scenes": [
    "Default Scene"
   ]
  }
 },
 "nbformat": 4,
 "nbformat_minor": 5
}
